{
 "cells": [
  {
   "cell_type": "markdown",
   "id": "1d84813c",
   "metadata": {},
   "source": [
    "# BASIC MATH OPERATION"
   ]
  },
  {
   "cell_type": "code",
   "execution_count": 6,
   "id": "9089cafa",
   "metadata": {},
   "outputs": [
    {
     "data": {
      "text/plain": [
       "14"
      ]
     },
     "execution_count": 6,
     "metadata": {},
     "output_type": "execute_result"
    }
   ],
   "source": [
    "5+9"
   ]
  },
  {
   "cell_type": "code",
   "execution_count": 7,
   "id": "4f92050b",
   "metadata": {},
   "outputs": [
    {
     "data": {
      "text/plain": [
       "-1"
      ]
     },
     "execution_count": 7,
     "metadata": {},
     "output_type": "execute_result"
    }
   ],
   "source": [
    "8-9"
   ]
  },
  {
   "cell_type": "code",
   "execution_count": 8,
   "id": "1df7b895",
   "metadata": {},
   "outputs": [
    {
     "data": {
      "text/plain": [
       "63"
      ]
     },
     "execution_count": 8,
     "metadata": {},
     "output_type": "execute_result"
    }
   ],
   "source": [
    "9*7"
   ]
  },
  {
   "cell_type": "code",
   "execution_count": 9,
   "id": "a95db79c",
   "metadata": {},
   "outputs": [
    {
     "data": {
      "text/plain": [
       "4"
      ]
     },
     "execution_count": 9,
     "metadata": {},
     "output_type": "execute_result"
    }
   ],
   "source": [
    "2**2"
   ]
  },
  {
   "cell_type": "code",
   "execution_count": 19,
   "id": "b62b3908",
   "metadata": {},
   "outputs": [
    {
     "data": {
      "text/plain": [
       "29"
      ]
     },
     "execution_count": 19,
     "metadata": {},
     "output_type": "execute_result"
    }
   ],
   "source": [
    "4+25"
   ]
  },
  {
   "cell_type": "code",
   "execution_count": 11,
   "id": "5888fae6",
   "metadata": {},
   "outputs": [
    {
     "data": {
      "text/plain": [
       "19"
      ]
     },
     "execution_count": 11,
     "metadata": {},
     "output_type": "execute_result"
    }
   ],
   "source": [
    "4+9+6"
   ]
  },
  {
   "cell_type": "code",
   "execution_count": 12,
   "id": "bef6521c",
   "metadata": {},
   "outputs": [
    {
     "data": {
      "text/plain": [
       "1.3333333333333333"
      ]
     },
     "execution_count": 12,
     "metadata": {},
     "output_type": "execute_result"
    }
   ],
   "source": [
    "8/6"
   ]
  },
  {
   "cell_type": "code",
   "execution_count": 13,
   "id": "5d50b289",
   "metadata": {},
   "outputs": [
    {
     "data": {
      "text/plain": [
       "11.0"
      ]
     },
     "execution_count": 13,
     "metadata": {},
     "output_type": "execute_result"
    }
   ],
   "source": [
    "9/3+8"
   ]
  },
  {
   "cell_type": "code",
   "execution_count": 14,
   "id": "6ab39cc3",
   "metadata": {},
   "outputs": [
    {
     "data": {
      "text/plain": [
       "729"
      ]
     },
     "execution_count": 14,
     "metadata": {},
     "output_type": "execute_result"
    }
   ],
   "source": [
    "9**3"
   ]
  },
  {
   "cell_type": "code",
   "execution_count": 15,
   "id": "cf3a55e5",
   "metadata": {},
   "outputs": [
    {
     "data": {
      "text/plain": [
       "2.0"
      ]
     },
     "execution_count": 15,
     "metadata": {},
     "output_type": "execute_result"
    }
   ],
   "source": [
    "8/4"
   ]
  },
  {
   "cell_type": "code",
   "execution_count": 16,
   "id": "364ae337",
   "metadata": {},
   "outputs": [
    {
     "data": {
      "text/plain": [
       "81"
      ]
     },
     "execution_count": 16,
     "metadata": {},
     "output_type": "execute_result"
    }
   ],
   "source": [
    "9**2"
   ]
  },
  {
   "cell_type": "code",
   "execution_count": 17,
   "id": "5a0e5776",
   "metadata": {},
   "outputs": [
    {
     "data": {
      "text/plain": [
       "56"
      ]
     },
     "execution_count": 17,
     "metadata": {},
     "output_type": "execute_result"
    }
   ],
   "source": [
    "7*8"
   ]
  },
  {
   "cell_type": "code",
   "execution_count": 18,
   "id": "a377e940",
   "metadata": {},
   "outputs": [
    {
     "data": {
      "text/plain": [
       "98"
      ]
     },
     "execution_count": 18,
     "metadata": {},
     "output_type": "execute_result"
    }
   ],
   "source": [
    "(5*8)+(7**2)+(6+3)"
   ]
  },
  {
   "cell_type": "code",
   "execution_count": 20,
   "id": "f9b1392d",
   "metadata": {},
   "outputs": [
    {
     "name": "stdout",
     "output_type": "stream",
     "text": [
      "Namaste SCET\n"
     ]
    }
   ],
   "source": [
    "#MY FIRST PYTHON PROGRAM\n",
    "print(\"Namaste SCET\")"
   ]
  },
  {
   "cell_type": "markdown",
   "id": "ae6ed495",
   "metadata": {},
   "source": [
    "# variable\n"
   ]
  },
  {
   "cell_type": "code",
   "execution_count": 22,
   "id": "e381b612",
   "metadata": {},
   "outputs": [],
   "source": [
    "a=58\n",
    "b=33.3333"
   ]
  },
  {
   "cell_type": "code",
   "execution_count": 23,
   "id": "3cf62c36",
   "metadata": {},
   "outputs": [
    {
     "data": {
      "text/plain": [
       "58"
      ]
     },
     "execution_count": 23,
     "metadata": {},
     "output_type": "execute_result"
    }
   ],
   "source": [
    "a"
   ]
  },
  {
   "cell_type": "code",
   "execution_count": 24,
   "id": "62701c73",
   "metadata": {},
   "outputs": [
    {
     "data": {
      "text/plain": [
       "33.3333"
      ]
     },
     "execution_count": 24,
     "metadata": {},
     "output_type": "execute_result"
    }
   ],
   "source": [
    "b"
   ]
  },
  {
   "cell_type": "code",
   "execution_count": 25,
   "id": "cd238c8b",
   "metadata": {},
   "outputs": [
    {
     "name": "stdout",
     "output_type": "stream",
     "text": [
      "33.3333\n"
     ]
    }
   ],
   "source": [
    "print(b)"
   ]
  },
  {
   "cell_type": "code",
   "execution_count": 26,
   "id": "9c6416ae",
   "metadata": {},
   "outputs": [
    {
     "data": {
      "text/plain": [
       "int"
      ]
     },
     "execution_count": 26,
     "metadata": {},
     "output_type": "execute_result"
    }
   ],
   "source": [
    "type(a)"
   ]
  },
  {
   "cell_type": "code",
   "execution_count": 27,
   "id": "c12e1fab",
   "metadata": {},
   "outputs": [
    {
     "data": {
      "text/plain": [
       "float"
      ]
     },
     "execution_count": 27,
     "metadata": {},
     "output_type": "execute_result"
    }
   ],
   "source": [
    "type(b)"
   ]
  },
  {
   "cell_type": "code",
   "execution_count": 28,
   "id": "76fde585",
   "metadata": {},
   "outputs": [],
   "source": [
    "c=\"SCET\""
   ]
  },
  {
   "cell_type": "code",
   "execution_count": 29,
   "id": "b7840fc4",
   "metadata": {},
   "outputs": [
    {
     "data": {
      "text/plain": [
       "'SCET'"
      ]
     },
     "execution_count": 29,
     "metadata": {},
     "output_type": "execute_result"
    }
   ],
   "source": [
    "c"
   ]
  },
  {
   "cell_type": "code",
   "execution_count": 30,
   "id": "16b75c2e",
   "metadata": {},
   "outputs": [
    {
     "data": {
      "text/plain": [
       "str"
      ]
     },
     "execution_count": 30,
     "metadata": {},
     "output_type": "execute_result"
    }
   ],
   "source": [
    "type(c)"
   ]
  },
  {
   "cell_type": "code",
   "execution_count": 31,
   "id": "0637df85",
   "metadata": {},
   "outputs": [],
   "source": [
    "d=True"
   ]
  },
  {
   "cell_type": "code",
   "execution_count": 32,
   "id": "bec65eaf",
   "metadata": {},
   "outputs": [
    {
     "data": {
      "text/plain": [
       "True"
      ]
     },
     "execution_count": 32,
     "metadata": {},
     "output_type": "execute_result"
    }
   ],
   "source": [
    "d"
   ]
  },
  {
   "cell_type": "code",
   "execution_count": 33,
   "id": "705f348b",
   "metadata": {},
   "outputs": [
    {
     "data": {
      "text/plain": [
       "bool"
      ]
     },
     "execution_count": 33,
     "metadata": {},
     "output_type": "execute_result"
    }
   ],
   "source": [
    "type(d)"
   ]
  },
  {
   "cell_type": "markdown",
   "id": "cdb0d830",
   "metadata": {},
   "source": [
    "# math operation on variables"
   ]
  },
  {
   "cell_type": "code",
   "execution_count": 34,
   "id": "941c9f88",
   "metadata": {},
   "outputs": [],
   "source": [
    "a=8\n",
    "b=28\n",
    "c=99\n",
    "d=102"
   ]
  },
  {
   "cell_type": "code",
   "execution_count": 35,
   "id": "554628e1",
   "metadata": {},
   "outputs": [
    {
     "data": {
      "text/plain": [
       "36"
      ]
     },
     "execution_count": 35,
     "metadata": {},
     "output_type": "execute_result"
    }
   ],
   "source": [
    "a+b"
   ]
  },
  {
   "cell_type": "code",
   "execution_count": 36,
   "id": "f1058885",
   "metadata": {},
   "outputs": [
    {
     "data": {
      "text/plain": [
       "127"
      ]
     },
     "execution_count": 36,
     "metadata": {},
     "output_type": "execute_result"
    }
   ],
   "source": [
    "b+c"
   ]
  },
  {
   "cell_type": "code",
   "execution_count": 37,
   "id": "acf49b15",
   "metadata": {},
   "outputs": [
    {
     "data": {
      "text/plain": [
       "201"
      ]
     },
     "execution_count": 37,
     "metadata": {},
     "output_type": "execute_result"
    }
   ],
   "source": [
    "c+d"
   ]
  },
  {
   "cell_type": "code",
   "execution_count": 38,
   "id": "4bd5b219",
   "metadata": {},
   "outputs": [
    {
     "data": {
      "text/plain": [
       "110"
      ]
     },
     "execution_count": 38,
     "metadata": {},
     "output_type": "execute_result"
    }
   ],
   "source": [
    "a+d"
   ]
  },
  {
   "cell_type": "code",
   "execution_count": 39,
   "id": "2ea0191e",
   "metadata": {},
   "outputs": [
    {
     "data": {
      "text/plain": [
       "224"
      ]
     },
     "execution_count": 39,
     "metadata": {},
     "output_type": "execute_result"
    }
   ],
   "source": [
    "a*b"
   ]
  },
  {
   "cell_type": "code",
   "execution_count": 40,
   "id": "f800068f",
   "metadata": {},
   "outputs": [
    {
     "data": {
      "text/plain": [
       "2772"
      ]
     },
     "execution_count": 40,
     "metadata": {},
     "output_type": "execute_result"
    }
   ],
   "source": [
    "b*c"
   ]
  },
  {
   "cell_type": "code",
   "execution_count": 41,
   "id": "b61fa5f0",
   "metadata": {},
   "outputs": [
    {
     "data": {
      "text/plain": [
       "10098"
      ]
     },
     "execution_count": 41,
     "metadata": {},
     "output_type": "execute_result"
    }
   ],
   "source": [
    "c*d"
   ]
  },
  {
   "cell_type": "code",
   "execution_count": 42,
   "id": "71a2a2b3",
   "metadata": {},
   "outputs": [
    {
     "data": {
      "text/plain": [
       "35.17647058823529"
      ]
     },
     "execution_count": 42,
     "metadata": {},
     "output_type": "execute_result"
    }
   ],
   "source": [
    "a+b*c/d"
   ]
  },
  {
   "cell_type": "code",
   "execution_count": 43,
   "id": "0aafaf70",
   "metadata": {},
   "outputs": [
    {
     "data": {
      "text/plain": [
       "0.2943722943722944"
      ]
     },
     "execution_count": 43,
     "metadata": {},
     "output_type": "execute_result"
    }
   ],
   "source": [
    "a/b/c*d"
   ]
  },
  {
   "cell_type": "code",
   "execution_count": 44,
   "id": "e057a57e",
   "metadata": {},
   "outputs": [
    {
     "data": {
      "text/plain": [
       "2261952"
      ]
     },
     "execution_count": 44,
     "metadata": {},
     "output_type": "execute_result"
    }
   ],
   "source": [
    "a*b*c*d"
   ]
  },
  {
   "cell_type": "markdown",
   "id": "206ac253",
   "metadata": {},
   "source": [
    "# use input keyword to take input from user"
   ]
  },
  {
   "cell_type": "code",
   "execution_count": 46,
   "id": "9156e496",
   "metadata": {},
   "outputs": [
    {
     "name": "stdout",
     "output_type": "stream",
     "text": [
      "enter the value of x:50\n"
     ]
    }
   ],
   "source": [
    "x=int(input(\"enter the value of x:\"))"
   ]
  },
  {
   "cell_type": "code",
   "execution_count": 47,
   "id": "9e347d1e",
   "metadata": {},
   "outputs": [
    {
     "data": {
      "text/plain": [
       "50"
      ]
     },
     "execution_count": 47,
     "metadata": {},
     "output_type": "execute_result"
    }
   ],
   "source": [
    "x"
   ]
  },
  {
   "cell_type": "code",
   "execution_count": 48,
   "id": "b4eb8ba6",
   "metadata": {},
   "outputs": [
    {
     "name": "stdout",
     "output_type": "stream",
     "text": [
      "enter the value of x:2\n",
      "enter the value of y:3\n",
      "8\n"
     ]
    }
   ],
   "source": [
    "x=int(input(\"enter the value of x:\"))\n",
    "y=int(input(\"enter the value of y:\"))\n",
    "z=x**y #power of x,y\n",
    "print(z)"
   ]
  },
  {
   "cell_type": "markdown",
   "id": "2f4823c8",
   "metadata": {},
   "source": [
    "# string concatenation"
   ]
  },
  {
   "cell_type": "code",
   "execution_count": 65,
   "id": "86c8bb56",
   "metadata": {},
   "outputs": [
    {
     "data": {
      "text/plain": [
       "''"
      ]
     },
     "execution_count": 65,
     "metadata": {},
     "output_type": "execute_result"
    }
   ],
   "source": [
    "str1=\"Priyanka\"\n",
    "str2=\"Mali\"\n",
    "str3=\" \"\n",
    "\"\""
   ]
  },
  {
   "cell_type": "code",
   "execution_count": 66,
   "id": "10b712d5",
   "metadata": {},
   "outputs": [
    {
     "data": {
      "text/plain": [
       "'Priyanka'"
      ]
     },
     "execution_count": 66,
     "metadata": {},
     "output_type": "execute_result"
    }
   ],
   "source": [
    "str1"
   ]
  },
  {
   "cell_type": "code",
   "execution_count": 67,
   "id": "b5881e8e",
   "metadata": {},
   "outputs": [
    {
     "data": {
      "text/plain": [
       "'Mali'"
      ]
     },
     "execution_count": 67,
     "metadata": {},
     "output_type": "execute_result"
    }
   ],
   "source": [
    "str2"
   ]
  },
  {
   "cell_type": "code",
   "execution_count": 68,
   "id": "3d557a9c",
   "metadata": {},
   "outputs": [
    {
     "data": {
      "text/plain": [
       "str"
      ]
     },
     "execution_count": 68,
     "metadata": {},
     "output_type": "execute_result"
    }
   ],
   "source": [
    "type(str2)"
   ]
  },
  {
   "cell_type": "code",
   "execution_count": 69,
   "id": "3edaa033",
   "metadata": {},
   "outputs": [
    {
     "data": {
      "text/plain": [
       "'Priyanka Mali'"
      ]
     },
     "execution_count": 69,
     "metadata": {},
     "output_type": "execute_result"
    }
   ],
   "source": [
    "str4= str1 + str3 + str2\n",
    "str4"
   ]
  },
  {
   "cell_type": "code",
   "execution_count": 71,
   "id": "12324fba",
   "metadata": {},
   "outputs": [
    {
     "data": {
      "text/plain": [
       "'a'"
      ]
     },
     "execution_count": 71,
     "metadata": {},
     "output_type": "execute_result"
    }
   ],
   "source": [
    "str5 = str1 + \" \" + str2\n",
    "str5[4]\n"
   ]
  },
  {
   "cell_type": "markdown",
   "id": "e7a9148c",
   "metadata": {},
   "source": [
    "# string slicing"
   ]
  },
  {
   "cell_type": "code",
   "execution_count": 73,
   "id": "5d961f75",
   "metadata": {},
   "outputs": [
    {
     "data": {
      "text/plain": [
       "'a'"
      ]
     },
     "execution_count": 73,
     "metadata": {},
     "output_type": "execute_result"
    }
   ],
   "source": [
    "str5[4]"
   ]
  },
  {
   "cell_type": "code",
   "execution_count": 74,
   "id": "d8cc6612",
   "metadata": {},
   "outputs": [
    {
     "data": {
      "text/plain": [
       "'Priyan'"
      ]
     },
     "execution_count": 74,
     "metadata": {},
     "output_type": "execute_result"
    }
   ],
   "source": [
    "str5[0:6]"
   ]
  },
  {
   "cell_type": "code",
   "execution_count": 75,
   "id": "10d68ff8",
   "metadata": {},
   "outputs": [
    {
     "data": {
      "text/plain": [
       "'riyank'"
      ]
     },
     "execution_count": 75,
     "metadata": {},
     "output_type": "execute_result"
    }
   ],
   "source": [
    "str5[1:7]"
   ]
  },
  {
   "cell_type": "code",
   "execution_count": 76,
   "id": "09a78706",
   "metadata": {},
   "outputs": [
    {
     "data": {
      "text/plain": [
       "'nka'"
      ]
     },
     "execution_count": 76,
     "metadata": {},
     "output_type": "execute_result"
    }
   ],
   "source": [
    "str5[5:8]"
   ]
  },
  {
   "cell_type": "code",
   "execution_count": 77,
   "id": "3d09d7d6",
   "metadata": {},
   "outputs": [
    {
     "data": {
      "text/plain": [
       "''"
      ]
     },
     "execution_count": 77,
     "metadata": {},
     "output_type": "execute_result"
    }
   ],
   "source": [
    "str5[8:1]"
   ]
  },
  {
   "cell_type": "code",
   "execution_count": 78,
   "id": "29d8cc32",
   "metadata": {},
   "outputs": [
    {
     "data": {
      "text/plain": [
       "'i'"
      ]
     },
     "execution_count": 78,
     "metadata": {},
     "output_type": "execute_result"
    }
   ],
   "source": [
    "str5[-1]"
   ]
  },
  {
   "cell_type": "markdown",
   "id": "d3e5d8f3",
   "metadata": {},
   "source": [
    "# Tuples in python"
   ]
  },
  {
   "cell_type": "code",
   "execution_count": 79,
   "id": "e1c1e26d",
   "metadata": {},
   "outputs": [],
   "source": [
    "tup1 = (\"scet\",22, \"bharat\",45.5,\"surat\",99)"
   ]
  },
  {
   "cell_type": "code",
   "execution_count": 80,
   "id": "ad4c6ec5",
   "metadata": {},
   "outputs": [
    {
     "data": {
      "text/plain": [
       "('scet', 22, 'bharat', 45.5, 'surat', 99)"
      ]
     },
     "execution_count": 80,
     "metadata": {},
     "output_type": "execute_result"
    }
   ],
   "source": [
    "tup1"
   ]
  },
  {
   "cell_type": "code",
   "execution_count": 81,
   "id": "5c79251d",
   "metadata": {},
   "outputs": [
    {
     "data": {
      "text/plain": [
       "tuple"
      ]
     },
     "execution_count": 81,
     "metadata": {},
     "output_type": "execute_result"
    }
   ],
   "source": [
    "type(tup1)"
   ]
  },
  {
   "cell_type": "code",
   "execution_count": 82,
   "id": "c15e48d8",
   "metadata": {},
   "outputs": [
    {
     "data": {
      "text/plain": [
       "'bharat'"
      ]
     },
     "execution_count": 82,
     "metadata": {},
     "output_type": "execute_result"
    }
   ],
   "source": [
    "tup1[2]"
   ]
  },
  {
   "cell_type": "code",
   "execution_count": 83,
   "id": "602cd0cb",
   "metadata": {},
   "outputs": [
    {
     "data": {
      "text/plain": [
       "(22, 'bharat', 45.5)"
      ]
     },
     "execution_count": 83,
     "metadata": {},
     "output_type": "execute_result"
    }
   ],
   "source": [
    "tup1[1:4]"
   ]
  },
  {
   "cell_type": "code",
   "execution_count": 84,
   "id": "08ef8cf7",
   "metadata": {},
   "outputs": [
    {
     "data": {
      "text/plain": [
       "('bharat', 45.5, 'surat', 99)"
      ]
     },
     "execution_count": 84,
     "metadata": {},
     "output_type": "execute_result"
    }
   ],
   "source": [
    "tup1[-4:]"
   ]
  },
  {
   "cell_type": "code",
   "execution_count": 85,
   "id": "32bf1e75",
   "metadata": {},
   "outputs": [],
   "source": [
    "tup2 = (\"electrical\", \"EC\",\"IC\",)"
   ]
  },
  {
   "cell_type": "code",
   "execution_count": 86,
   "id": "8dc4bf7c",
   "metadata": {},
   "outputs": [],
   "source": [
    "tup3= tup1+tup2"
   ]
  },
  {
   "cell_type": "code",
   "execution_count": 87,
   "id": "346bf246",
   "metadata": {},
   "outputs": [
    {
     "data": {
      "text/plain": [
       "('scet', 22, 'bharat', 45.5, 'surat', 99, 'electrical', 'EC', 'IC')"
      ]
     },
     "execution_count": 87,
     "metadata": {},
     "output_type": "execute_result"
    }
   ],
   "source": [
    "tup3"
   ]
  },
  {
   "cell_type": "code",
   "execution_count": 88,
   "id": "35be2c74",
   "metadata": {},
   "outputs": [
    {
     "data": {
      "text/plain": [
       "9"
      ]
     },
     "execution_count": 88,
     "metadata": {},
     "output_type": "execute_result"
    }
   ],
   "source": [
    "len(tup3)"
   ]
  },
  {
   "cell_type": "markdown",
   "id": "ecf39af7",
   "metadata": {},
   "source": [
    "# List in python"
   ]
  },
  {
   "cell_type": "code",
   "execution_count": 94,
   "id": "96721522",
   "metadata": {},
   "outputs": [
    {
     "data": {
      "text/plain": [
       "list"
      ]
     },
     "execution_count": 94,
     "metadata": {},
     "output_type": "execute_result"
    }
   ],
   "source": [
    "lst1 = [\"SCET\",22, \"bharat\",45.5, \"surat\",99]\n",
    "type(lst1)\n"
   ]
  },
  {
   "cell_type": "code",
   "execution_count": 95,
   "id": "33e84277",
   "metadata": {},
   "outputs": [],
   "source": [
    "lst1.remove(22)"
   ]
  },
  {
   "cell_type": "code",
   "execution_count": 96,
   "id": "d2398609",
   "metadata": {},
   "outputs": [
    {
     "data": {
      "text/plain": [
       "['SCET', 'bharat', 45.5, 'surat', 99]"
      ]
     },
     "execution_count": 96,
     "metadata": {},
     "output_type": "execute_result"
    }
   ],
   "source": [
    "lst1"
   ]
  },
  {
   "cell_type": "markdown",
   "id": "b9c34dbb",
   "metadata": {},
   "source": [
    "# Dictionary"
   ]
  },
  {
   "cell_type": "code",
   "execution_count": 97,
   "id": "8082dd74",
   "metadata": {},
   "outputs": [],
   "source": [
    "dict1 = {\"university\" : \"GTU\", \"course\" : \"Electrical\", \"subject\":\"python\"}"
   ]
  },
  {
   "cell_type": "code",
   "execution_count": 98,
   "id": "94d2fe35",
   "metadata": {},
   "outputs": [
    {
     "data": {
      "text/plain": [
       "{'university': 'GTU', 'course': 'Electrical', 'subject': 'python'}"
      ]
     },
     "execution_count": 98,
     "metadata": {},
     "output_type": "execute_result"
    }
   ],
   "source": [
    "dict1"
   ]
  },
  {
   "cell_type": "code",
   "execution_count": 100,
   "id": "964f3db8",
   "metadata": {},
   "outputs": [
    {
     "data": {
      "text/plain": [
       "dict"
      ]
     },
     "execution_count": 100,
     "metadata": {},
     "output_type": "execute_result"
    }
   ],
   "source": [
    "type(dict1)"
   ]
  },
  {
   "cell_type": "code",
   "execution_count": 101,
   "id": "0ae24585",
   "metadata": {},
   "outputs": [
    {
     "name": "stdout",
     "output_type": "stream",
     "text": [
      "dict_keys(['university', 'course', 'subject'])\n"
     ]
    }
   ],
   "source": [
    "#print only key values\n",
    "print(dict1.keys())"
   ]
  },
  {
   "cell_type": "code",
   "execution_count": 102,
   "id": "5852ef82",
   "metadata": {},
   "outputs": [
    {
     "name": "stdout",
     "output_type": "stream",
     "text": [
      "dict_values(['GTU', 'Electrical', 'python'])\n"
     ]
    }
   ],
   "source": [
    "#print only values\n",
    "print(dict1.values())"
   ]
  },
  {
   "cell_type": "code",
   "execution_count": 103,
   "id": "5678ce49",
   "metadata": {},
   "outputs": [],
   "source": [
    "from math import pi"
   ]
  },
  {
   "cell_type": "code",
   "execution_count": 104,
   "id": "032e4654",
   "metadata": {},
   "outputs": [
    {
     "data": {
      "text/plain": [
       "3.141592653589793"
      ]
     },
     "execution_count": 104,
     "metadata": {},
     "output_type": "execute_result"
    }
   ],
   "source": [
    "pi"
   ]
  },
  {
   "cell_type": "code",
   "execution_count": 106,
   "id": "d9e50c5f",
   "metadata": {},
   "outputs": [
    {
     "data": {
      "text/plain": [
       "78.53981633974483"
      ]
     },
     "execution_count": 106,
     "metadata": {},
     "output_type": "execute_result"
    }
   ],
   "source": [
    "#Area of circle\n",
    "r=5\n",
    "area=pi*(r**2)\n",
    "area"
   ]
  },
  {
   "cell_type": "code",
   "execution_count": 107,
   "id": "5a42a813",
   "metadata": {},
   "outputs": [
    {
     "name": "stdout",
     "output_type": "stream",
     "text": [
      "0\n",
      "1\n",
      "2\n",
      "3\n",
      "4\n",
      "5\n",
      "6\n",
      "7\n",
      "8\n",
      "9\n"
     ]
    }
   ],
   "source": [
    "for i in range (10):\n",
    "    print(i)"
   ]
  },
  {
   "cell_type": "markdown",
   "id": "d000779b",
   "metadata": {},
   "source": [
    "# Python conditional statement"
   ]
  },
  {
   "cell_type": "code",
   "execution_count": 113,
   "id": "0fadbe7e",
   "metadata": {},
   "outputs": [
    {
     "name": "stdout",
     "output_type": "stream",
     "text": [
      "5 is a positive Number\n"
     ]
    }
   ],
   "source": [
    "#if statement\n",
    "\n",
    "num=5\n",
    "if num > 0:\n",
    "   print(num, \"is a positive Number\")\n"
   ]
  },
  {
   "cell_type": "code",
   "execution_count": 114,
   "id": "ab2d197a",
   "metadata": {},
   "outputs": [
    {
     "name": "stdout",
     "output_type": "stream",
     "text": [
      "0 is a positive number\n"
     ]
    }
   ],
   "source": [
    "#if else statement\n",
    "\n",
    "num=0\n",
    "if num >=0:\n",
    "    print(num, \"is a positive number\")\n",
    "else:\n",
    "    print(\"negative Number\")"
   ]
  },
  {
   "cell_type": "code",
   "execution_count": 118,
   "id": "c2da9d54",
   "metadata": {},
   "outputs": [
    {
     "name": "stdout",
     "output_type": "stream",
     "text": [
      "zero\n"
     ]
    }
   ],
   "source": [
    "#nested if\n",
    "\n",
    "num=0\n",
    "if num >=0:\n",
    "    if num==0:\n",
    "       print(\"zero\")\n",
    "    else:\n",
    "        print(\"postive number\")\n",
    "            \n",
    "else:\n",
    "    print(\"negative number\")\n",
    "            "
   ]
  },
  {
   "cell_type": "code",
   "execution_count": null,
   "id": "994c9ef1",
   "metadata": {},
   "outputs": [],
   "source": []
  }
 ],
 "metadata": {
  "kernelspec": {
   "display_name": "Python 3 (ipykernel)",
   "language": "python",
   "name": "python3"
  },
  "language_info": {
   "codemirror_mode": {
    "name": "ipython",
    "version": 3
   },
   "file_extension": ".py",
   "mimetype": "text/x-python",
   "name": "python",
   "nbconvert_exporter": "python",
   "pygments_lexer": "ipython3",
   "version": "3.9.12"
  }
 },
 "nbformat": 4,
 "nbformat_minor": 5
}
